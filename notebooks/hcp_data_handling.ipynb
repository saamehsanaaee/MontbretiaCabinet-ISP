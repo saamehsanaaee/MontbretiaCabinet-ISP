{
 "cells": [
  {
   "cell_type": "markdown",
   "metadata": {},
   "source": [
    "# Data handling HCP\n",
    "\n",
    "## Load timeseries"
   ]
  },
  {
   "cell_type": "code",
   "execution_count": null,
   "metadata": {},
   "outputs": [],
   "source": [
    "# 1. De-compress the file 'tar.gz' from the row data\n",
    "# use magic cells or python"
   ]
  },
  {
   "cell_type": "markdown",
   "metadata": {},
   "source": [
    "### bash magic cell"
   ]
  },
  {
   "cell_type": "code",
   "execution_count": 3,
   "metadata": {},
   "outputs": [
    {
     "name": "stdout",
     "output_type": "stream",
     "text": [
      "Untitled.ipynb\n"
     ]
    }
   ],
   "source": [
    "%%bash\n",
    "ls"
   ]
  },
  {
   "cell_type": "markdown",
   "metadata": {},
   "source": [
    "## Time-series"
   ]
  },
  {
   "cell_type": "code",
   "execution_count": null,
   "metadata": {},
   "outputs": [],
   "source": [
    "# Load the individual timeseries in a numpy array (granularity=15)\n",
    "# Keep the id associated with this files\n",
    "\n",
    "# Plot the matrix of the time series of subject 1 (time x roi)\n",
    "\n",
    "# For each subject calculate the mean connectome (axis=0 , mean timeseries-roi by subject)\n",
    "\n",
    "# Then calculate the subjects similarity"
   ]
  },
  {
   "cell_type": "markdown",
   "metadata": {},
   "source": [
    "## Functional connectomes"
   ]
  },
  {
   "cell_type": "code",
   "execution_count": 6,
   "metadata": {},
   "outputs": [],
   "source": [
    "# Load the individual functional Connectomes (FC) in a numpy array (granularity=15)\n",
    "# Keep the id associated with this files\n",
    "\n",
    "# Plot the matrix of the FC of subject 1 (roi x roi)\n",
    "\n",
    "# For each subject calculate the mean connectome (axis=0 , mean FC-roi by subject)\n",
    "\n",
    "# Then calculate the subjects similarity"
   ]
  },
  {
   "cell_type": "markdown",
   "metadata": {},
   "source": [
    "## ICA is not a parcellation\n",
    "\n",
    "ICA: https://web.mit.edu/fsl_v5.0.10/fsl/doc/wiki/MELODIC.html\n",
    "\n",
    "How to get the glasser parcellation from this HCP data?\n",
    "\n",
    "Check the forums, original paper:\n",
    "> Glasser, M. F., Coalson, T. S., Robinson, E. C., Hacker, C. D., Harwell, J., Yacoub, E., ... & Van Essen, D. C. (2016). A multi-modal parcellation of human cerebral cortex. Nature, 536(7615), 171-178."
   ]
  },
  {
   "cell_type": "code",
   "execution_count": null,
   "metadata": {},
   "outputs": [],
   "source": []
  },
  {
   "cell_type": "code",
   "execution_count": null,
   "metadata": {},
   "outputs": [],
   "source": []
  }
 ],
 "metadata": {
  "kernelspec": {
   "display_name": "Python 3 (ipykernel)",
   "language": "python",
   "name": "python3"
  },
  "language_info": {
   "codemirror_mode": {
    "name": "ipython",
    "version": 3
   },
   "file_extension": ".py",
   "mimetype": "text/x-python",
   "name": "python",
   "nbconvert_exporter": "python",
   "pygments_lexer": "ipython3",
   "version": "3.7.7"
  }
 },
 "nbformat": 4,
 "nbformat_minor": 4
}
