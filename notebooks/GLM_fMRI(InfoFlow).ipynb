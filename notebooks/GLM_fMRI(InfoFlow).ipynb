{
  "nbformat": 4,
  "nbformat_minor": 0,
  "metadata": {
    "colab": {
      "provenance": []
    },
    "kernelspec": {
      "name": "python3",
      "display_name": "Python 3"
    },
    "language_info": {
      "name": "python"
    }
  },
  "cells": [
    {
      "cell_type": "code",
      "execution_count": null,
      "metadata": {
        "id": "Dr-hQEF4M8j8"
      },
      "outputs": [],
      "source": [
        " # import data (WM)\n",
        " # check summer school script for time-series data\n",
        " # find data link (move data from summer sch, or find OSF link)\n",
        " # \"https://osf.io/2y3fw/download\""
      ]
    },
    {
      "cell_type": "code",
      "source": [
        "# preprocessing"
      ],
      "metadata": {
        "id": "sHcDEVmWP5lL"
      },
      "execution_count": null,
      "outputs": []
    },
    {
      "cell_type": "code",
      "source": [
        "# variable definition\n",
        "# task, condition, onset, duration\n",
        "# task/ condition = 2-back vs 0-back (check whether all face, tool, body parts, places have 0- and 2-back tasks)\n"
      ],
      "metadata": {
        "id": "0Mk8XW8BRELc"
      },
      "execution_count": null,
      "outputs": []
    },
    {
      "cell_type": "code",
      "source": [
        "# create regressor\n",
        "\n",
        "# decide event or task based regressor (to confirm the delay in fMRI doesn't affect results)\n",
        "# for event, check ev file"
      ],
      "metadata": {
        "id": "iMz2vhzDRX57"
      },
      "execution_count": null,
      "outputs": []
    },
    {
      "cell_type": "code",
      "source": [
        "# design matrix"
      ],
      "metadata": {
        "id": "lxcLqB1ZS6oj"
      },
      "execution_count": null,
      "outputs": []
    },
    {
      "cell_type": "code",
      "source": [
        "# fit GLM\n",
        "\n",
        "# input = design matrix & voxel-wised time-series\n",
        "# output = coef (beta)"
      ],
      "metadata": {
        "id": "LnDkUEw9TKhv"
      },
      "execution_count": null,
      "outputs": []
    },
    {
      "cell_type": "code",
      "source": [
        "# contrast analysis\n",
        "# set contrast for experimental vs control\n",
        "# 2-back as 0.5; 0-back as -0.5\n",
        "\n",
        "# understand whether activation in specific regions is above baseline"
      ],
      "metadata": {
        "id": "R5q8ZbCWTyxd"
      },
      "execution_count": null,
      "outputs": []
    },
    {
      "cell_type": "code",
      "source": [
        "# activation flow modeling\n",
        "# (decide later) whether to mute unrelated parcels --> let's try not muting first\n",
        "\n",
        "# 2s as bin\n",
        "\n",
        "# ?? parametric modulation\n",
        "# ?? analyze temporal changes"
      ],
      "metadata": {
        "id": "KHmLG6D2VBEc"
      },
      "execution_count": null,
      "outputs": []
    }
  ]
}