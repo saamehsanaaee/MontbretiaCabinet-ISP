{
 "cells": [
  {
   "cell_type": "markdown",
   "id": "20605108-a5aa-4396-a56f-5d9f234a730b",
   "metadata": {},
   "source": [
    "# Preliminary Working Memory Model"
   ]
  },
  {
   "cell_type": "markdown",
   "id": "5378df91-d014-485f-9829-ab7df04d1c2e",
   "metadata": {},
   "source": [
    "This is the model that our team created during the 2024 Neuromatch Summer School.\n",
    "\n",
    "\n",
    "(Insert a heck ton of README-style explanation for the preliminary model OR put the info in the main README file for both models.)"
   ]
  },
  {
   "cell_type": "markdown",
   "id": "cac9f1ec-6739-4ec9-89a5-d06a6c50a680",
   "metadata": {},
   "source": [
    "## Setup and dependencies"
   ]
  },
  {
   "cell_type": "code",
   "execution_count": 1,
   "id": "acb92641-c3cf-47f4-bb62-180c6033e6ac",
   "metadata": {},
   "outputs": [],
   "source": [
    "!pip install nilearn --quiet\n",
    "!pip install graphviz --quiet\n",
    "!pip install visualkeras --quiet\n",
    "\n",
    "import os\n",
    "import re\n",
    "import tarfile\n",
    "import requests\n",
    "import numpy as np\n",
    "import pandas as pd\n",
    "import seaborn as sns\n",
    "import tensorflow as tf\n",
    "import matplotlib.pyplot as plt\n",
    "\n",
    "from glob import glob\n",
    "from sklearn.decomposition import PCA\n",
    "from sklearn.preprocessing import StandardScaler"
   ]
  },
  {
   "cell_type": "markdown",
   "id": "892f7dbe-ac71-47b1-828d-2f3223a6741d",
   "metadata": {},
   "source": [
    "## Figure settings"
   ]
  },
  {
   "cell_type": "code",
   "execution_count": 2,
   "id": "47ae7e3a-28f9-42f5-9913-513f8cd07ad0",
   "metadata": {},
   "outputs": [],
   "source": [
    "# will be replaced by the xkcd style"
   ]
  },
  {
   "cell_type": "markdown",
   "id": "eee36a4c-d83a-49e5-bf9c-4d08cedb511d",
   "metadata": {},
   "source": [
    "## Parameters and Data Download\n",
    "The data used for the preliminary model was shared by Neuromatch in the [Project Booklets](https://compneuro.neuromatch.io/projects/fMRI/README.html#:~:text=5%2D23%2C%202021-,HCP%20task%20datasets,-%23) and most of our data preparation is similar to what they have shared in the ```load_hcp_task_with_behaviour.ipynb``` in the [HCP 2021 + behavior](https://compneuro.neuromatch.io/projects/fMRI/README.html#:~:text=View-,HCP%202021%20%2B%20behavior,-HCP%202021) section.\n",
    "\n",
    "Our target experiments (```TargetExperiments``` variable below) are Working Memory, Emotion, and Language tasks."
   ]
  },
  {
   "cell_type": "code",
   "execution_count": 3,
   "id": "164f224f-8915-46aa-bc0a-6d3631a0282d",
   "metadata": {},
   "outputs": [],
   "source": [
    "N_SUBJECTS = 100\n",
    "N_PARCELS = 360 # Data aggregated into ROIs from Glasser parcellation\n",
    "TR = 0.72  # Time resolution, in seconds\n",
    "HEMIS = [\"Right\", \"Left\"]\n",
    "RUNS   = [\"LR\",\"RL\"]\n",
    "N_RUNS = 2\n",
    "\n",
    "EXPERIMENTS = {\n",
    "    \"MOTOR\"      : {\"cond\" : [\"lf\", \"rf\" ,\"lh\", \"rh\", \"t\", \"cue\"]},\n",
    "    \"WM\"         : {\"cond\" : [\"0bk_body\", \"0bk_faces\", \"0bk_places\", \"0bk_tools\",\n",
    "                              \"2bk_body\", \"2bk_faces\", \"2bk_places\", \"2bk_tools\"]},\n",
    "    \"SOCIAL\"     : {\"cond\" : [\"ment\", \"rnd\"]},\n",
    "    \"GAMBLING\"   : {\"cond\" : [\"loss\", \"win\"]},\n",
    "    \"EMOTION\"    : {\"cond\" : [\"fear\", \"neut\"]},\n",
    "    \"LANGUAGE\"   : {\"cond\" : [\"math\", \"story\"]},\n",
    "    \"RELATIONAL\" : {\"cond\" : [\"match\", \"relation\"]}\n",
    "}\n",
    "\n",
    "TargetExperiments = [\"WM\", \"EMOTION\", \"LANGUAGE\"]\n",
    "\n",
    "TargetConditions  = [\"0bk_body\", \"0bk_faces\", \"0bk_places\", \"0bk_tools\",\n",
    "                     \"2bk_body\", \"2bk_faces\", \"2bk_places\", \"2bk_tools\",\n",
    "                     \"fear\"    , \"neut\"     , \"math\"      , \"story\"    ]"
   ]
  },
  {
   "cell_type": "code",
   "execution_count": 4,
   "id": "8d4d6525-7ec2-429f-a058-fd097522a128",
   "metadata": {},
   "outputs": [
    {
     "name": "stderr",
     "output_type": "stream",
     "text": [
      "C:\\Users\\User\\AppData\\Local\\Temp\\ipykernel_21512\\2612373236.py:20: DeprecationWarning: Python 3.14 will, by default, filter extracted tar archives and reject files or modify their metadata. Use the filter argument to control this behavior.\n",
      "  tfile.extractall('.')\n"
     ]
    }
   ],
   "source": [
    "fname = \"hcp_task.tgz\"\n",
    "url = \"https://osf.io/2y3fw/download\"\n",
    "\n",
    "if not os.path.isfile(fname):\n",
    "  try:\n",
    "    r = requests.get(url)\n",
    "  except requests.ConnectionError:\n",
    "    print(\"Download FAILED: Connection Error!\")\n",
    "  else:\n",
    "    if r.status_code != requests.codes.ok:\n",
    "      print(\"Download FAILED!\")\n",
    "    else:\n",
    "      with open(fname, \"wb\") as fid:\n",
    "        fid.write(r.content)\n",
    "\n",
    "\n",
    "HCP_DIR = \"./hcp_task\"\n",
    "\n",
    "with tarfile.open(fname) as tfile:\n",
    "  tfile.extractall('.')"
   ]
  },
  {
   "cell_type": "code",
   "execution_count": 5,
   "id": "d1189dfd-9e6a-41e2-9c1a-26c99472c760",
   "metadata": {},
   "outputs": [],
   "source": [
    "SubjectIDs = np.loadtxt(os.path.join(HCP_DIR, 'subjects_list.txt'), dtype='str')\n",
    "SubjectIDs = list(SubjectIDs)"
   ]
  },
  {
   "cell_type": "markdown",
   "id": "c1eb3ba4-3b6f-4d7a-87f3-a14635bc8909",
   "metadata": {},
   "source": [
    "### ```regions.npy``` file, parcels, and subnetworks\n",
    "(Insert doc about what the regions file is)"
   ]
  },
  {
   "cell_type": "code",
   "execution_count": 6,
   "id": "a310d1ea-68d2-4c00-b376-ea19552835f3",
   "metadata": {},
   "outputs": [],
   "source": [
    "regions = np.load(f\"{HCP_DIR}/regions.npy\").T\n",
    "\n",
    "region_info = dict(\n",
    "    name=regions[0].tolist(),\n",
    "    network=regions[1],\n",
    "    hemi=['Right']*int(N_PARCELS/2) + ['Left']*int(N_PARCELS/2),\n",
    ")"
   ]
  },
  {
   "cell_type": "code",
   "execution_count": 7,
   "id": "12c41ca0-5f1a-45ef-b6f4-9055151ad397",
   "metadata": {},
   "outputs": [],
   "source": [
    "\"\"\"\n",
    "THIS SECTION OF CODE WILL BE REPLACED BY CODE THAT DIRECTLY EXTRACTS\n",
    "THE NUMBERS AND CONSTUCTS THE DICTIONARY FROM THE regions.npy FILE.\n",
    "\"\"\"\n",
    "\n",
    "ventral_attention_parcels    = [121, 134]\n",
    "\n",
    "orbital_affective_parcels    = [111, 165, 289, 291, 345]\n",
    "\n",
    "dorsal_attention_parcels     = [26, 139, 140, 206, 207, 320]\n",
    "\n",
    "limbic_parcels               = [109, 111, 165, 289, 291, 345]\n",
    "\n",
    "auditory_parcels             = [23, 102, 103, 123, 172, 173, \n",
    "                                174, 282, 286, 287, 288, 303, 352, 353, 354]\n",
    "\n",
    "default_mode_parcels         = [11, 24, 25, 27, \n",
    "                                73, 74, 78, 80, 122, 124, 127, 128, 138, 171, \n",
    "                                191, 205, 254, 258, 302, 304, 308, 318, 351]\n",
    "\n",
    "language_parcels             = [10, 45, 49, 94, \n",
    "                                95, 115, 126, 135, 136, 142, 145, 225, 229, \n",
    "                                274, 275, 295, 296, 306, 315, 316, 322, 325]\n",
    "\n",
    "frontoparietal_parcels       = [13, 14, \n",
    "                                28, 62, 72, 76, 79, 81, 82, 84, 96, 97, 110, \n",
    "                                132, 143, 144, 148, 169, 170, 208, 242, 252,\n",
    "                                256, 259, 260, 262, 264, 276, 277, 290, 298]\n",
    "\n",
    "somatomotor_parcels          = [7, 8, 35, 38, 39, 40, 41, 46, \n",
    "                                50, 51, 52, 53, 54, 55, 99, 100, 101, 167, \n",
    "                                187, 188, 215, 218, 219, 220, 221, 226, 230, \n",
    "                                231, 232, 233, 234, 235, 279, 280, 281, 347]\n",
    "\n",
    "cingulo_opercular_parcels    = [9, 36, 37, 42, 43, 44, 56, 57, 58, 59, 98, \n",
    "                                104, 105, 107, 112, 113, 114, 116, 178, 179, \n",
    "                                189, 190, 204, 216, 217, 222, 223, 224, 236, \n",
    "                                237, 238, 239, 257, 261, 263, 265, 275, 277, \n",
    "                                285, 292, 293, 346, 348, 357, 358, 359]\n",
    "\n",
    "visual_parcels               = [0, 1, 2, 3, 4, 5, 6,\n",
    "                                12, 15, 16, 17, 18, 19, 20, 21, 22, 47, 48,\n",
    "                                137, 141, 151, 152, 153, 155, 156, 157, 158, \n",
    "                                159, 162, 186, 192, 195, 196, 197, 198, 199, \n",
    "                                200, 201, 202, 227, 228, 317, 321, 331, 332, \n",
    "                                333, 335, 336, 337, 338, 339, 342]\n",
    "\n",
    "posterior_multimodal_parcels = [29, 30, 31, 32, 33, 34, 60, 61, 63, 64, 65, \n",
    "                                66, 67, 68, 69, 70, 71, 75, 86, 87, 88, 89, \n",
    "                                117, 118, 119, 130, 131, 133, 154, 160, 161, \n",
    "                                163, 164, 175, 176, 177, 180, 181, 182, 183, \n",
    "                                184, 185, 192, 193, 194, 195, 196, 197, 198, \n",
    "                                199, 200, 201, 202, 214, 215, 216, 217, 218, \n",
    "                                219, 220, 221, 230, 231, 232, 233, 234, 235, \n",
    "                                246, 247, 248, 249, 250, 251, 252, 253, 255, \n",
    "                                266, 267, 269, 270, 271, 272, 273, 276, 277, \n",
    "                                278, 279, 280, 281, 283, 284, 297, 299, 300, \n",
    "                                301, 305, 307, 309, 310, 311, 312, 313, 314, \n",
    "                                319, 323, 324, 326, 327, 328, 329, 330, 341, \n",
    "                                344, 349, 350]\n",
    "\n",
    "# Dictionary of subnetworks with no. of parcels and the list of corresponding parcels.\n",
    "subnetworks = {\n",
    "    f\"visual_nw_{len(visual_parcels)}\"                             : visual_parcels             ,\n",
    "    f\"limbic_nw_{len(limbic_parcels)}\"                             : limbic_parcels             ,\n",
    "    f\"auditory_nw_{len(auditory_parcels)}\"                         : auditory_parcels           ,\n",
    "    f\"language_nw_{len(language_parcels)}\"                         : language_parcels           ,\n",
    "    f\"somatomotor_nw_{len(somatomotor_parcels)}\"                   : somatomotor_parcels        ,\n",
    "    f\"default_mode_nw_{len(default_mode_parcels)}\"                 : default_mode_parcels       ,\n",
    "    f\"frontoparietal_nw_{len(frontoparietal_parcels)}\"             : frontoparietal_parcels     ,\n",
    "    f\"dorsal_attention_nw_{len(dorsal_attention_parcels)}\"         : dorsal_attention_parcels   ,\n",
    "    f\"cingulo_opercular_nw_{len(cingulo_opercular_parcels)}\"       : cingulo_opercular_parcels  ,\n",
    "    f\"orbital_affective_nw_{len(orbital_affective_parcels)}\"       : orbital_affective_parcels  ,\n",
    "    f\"ventral_attention_nw_{len(ventral_attention_parcels)}\"       : ventral_attention_parcels  ,\n",
    "    f\"posterior_multimodal_nw_{len(posterior_multimodal_parcels)}\" : posterior_multimodal_parcels\n",
    "}"
   ]
  },
  {
   "cell_type": "markdown",
   "id": "c880417c-d5ea-4a42-a8df-0467c4c7b865",
   "metadata": {},
   "source": [
    "## Creating dataframes\n",
    "Here, we create dataframes that contain the data relative to subjects and ROIs (parcels).\n",
    "\n",
    "In the preliminary model, this datapoints are the average BOLD signals for each parcel."
   ]
  },
  {
   "cell_type": "markdown",
   "id": "bb55ec67",
   "metadata": {},
   "source": [
    "### Helper function related to creating the dataframes"
   ]
  },
  {
   "cell_type": "code",
   "execution_count": 8,
   "id": "8230ac96-8706-4e8b-af90-3433e8abb437",
   "metadata": {},
   "outputs": [],
   "source": [
    "def load_single_timeseries(subject, experiment, run, remove_mean=True):\n",
    "    \"\"\"Load timeseries data for a single subject and single run.\n",
    "\n",
    "    Arguments:\n",
    "        subject (str):      subject ID to load\n",
    "        experiment (str):   Name of experiment\n",
    "        run (int):          (0 or 1)\n",
    "        remove_mean (bool): If True, subtract the parcel-wise mean\n",
    "                            (typically the mean BOLD signal is not of interest)\n",
    "\n",
    "    Returns\n",
    "        ts (n_parcel x n_timepoint array): Array of BOLD data values\n",
    "    \n",
    "    \"\"\"\n",
    "    bold_run  = RUNS[run]\n",
    "    bold_path = f\"{HCP_DIR}/subjects/{subject}/{experiment}/tfMRI_{experiment}_{bold_run}\"\n",
    "    bold_file = \"data.npy\"\n",
    "    ts_path   = f\"{bold_path}/{bold_file}\"\n",
    "    \n",
    "    if not os.path.exists(ts_path):\n",
    "        raise FileNotFoundError(f\"Timeseries file not found: {ts_path}\")\n",
    "    ts = np.load(ts_path)\n",
    "    \n",
    "    if remove_mean:\n",
    "        ts = ts - ts.mean(axis=1, keepdims=True)\n",
    "    return ts"
   ]
  },
  {
   "cell_type": "code",
   "execution_count": 9,
   "id": "b38cc12d-3364-4a7a-8a7d-3d6f1a15e142",
   "metadata": {},
   "outputs": [],
   "source": [
    "def load_evs(subject, experiment, run):\n",
    "    \"\"\"Load EVs (explanatory variables) data for one task experiment.\n",
    "\n",
    "    Arguments:\n",
    "        subject (str): subject ID to load\n",
    "        experiment (str): Name of experiment\n",
    "        run (int): 0 or 1\n",
    "\n",
    "    Returns:\n",
    "        evs (list of lists): A list of frames associated with each condition\n",
    "    \n",
    "    \"\"\"\n",
    "    frames_list = []\n",
    "    task_key = f\"tfMRI_{experiment}_{RUNS[run]}\"\n",
    "    for cond in EXPERIMENTS[experiment][\"cond\"]:\n",
    "        ev_file  = f\"{HCP_DIR}/subjects/{subject}/{experiment}/{task_key}/EVs/{cond}.txt\"\n",
    "        ev_array = np.loadtxt(ev_file, ndmin=2, unpack=True)\n",
    "        ev       = dict(zip([\"onset\", \"duration\", \"amplitude\"], ev_array))\n",
    "        \n",
    "        # Determine when trial starts, rounded down\n",
    "        start = np.floor(ev[\"onset\"] / TR).astype(int)\n",
    "        # Use trial duration to determine how many frames to include for trial\n",
    "        duration = np.ceil(ev[\"duration\"] / TR).astype(int)\n",
    "        # Take the range of frames that correspond to this specific trial\n",
    "        frames = [s + np.arange(0, d) for s, d in zip(start, duration)]\n",
    "        frames_list.append(frames)\n",
    "\n",
    "    return frames_list\n",
    "\n",
    "\n",
    "def load_evs_as_dict(subject, experiment, run):\n",
    "    \"\"\"Load EVs (explanatory variables) data for one task experiment.\n",
    "\n",
    "    Arguments:\n",
    "        subject (str): subject ID to load\n",
    "        experiment (str): Name of experiment\n",
    "        run (int): 0 or 1\n",
    "\n",
    "    Returns:\n",
    "        evs (dict): A dictionary of the data associated with each condition\n",
    "    \n",
    "    \"\"\"\n",
    "    evs = {}\n",
    "    task_key = f\"tfMRI_{experiment}_{RUNS[run]}\"\n",
    "\n",
    "    for cond  in EXPERIMENTS[experiment][\"cond\"]:\n",
    "        ev_file = f\"{HCP_DIR}/subjects/{subject}/{experiment}/{task_key}/EVs/{cond}.txt\"\n",
    "        if not os.path.exists(ev_file):\n",
    "            raise FileNotFoundError(f\"EV file not found: {ev_file}\")\n",
    "        ev_array  = np.loadtxt(ev_file, ndmin=2, unpack=True)\n",
    "        evs[cond] = dict(zip([\"onset\", \"duration\", \"amplitude\"], ev_array))\n",
    "\n",
    "    return evs"
   ]
  },
  {
   "cell_type": "code",
   "execution_count": 10,
   "id": "aa5ca005-ffac-4953-8663-d4f6ce37d62e",
   "metadata": {},
   "outputs": [],
   "source": [
    "def create_dataframe(subject, experiment):\n",
    "    \"\"\"\n",
    "    Creates a dataframe that contains the parcel-based \n",
    "    BOLD signals from a subject for each condition.\n",
    "\n",
    "    Arguments:\n",
    "        subject (str): subject ID to load\n",
    "        experiment (str): Name of experiment\n",
    "\n",
    "    Returns:\n",
    "        A dataframe of parcel-based BOLD data\n",
    "        for one subject and one experiment\n",
    "        \n",
    "    \"\"\"\n",
    "    all_data = []\n",
    "\n",
    "    for run in range(2): # Run can be 0 (LR) or 1 (RL)\n",
    "        try:\n",
    "            ts  = load_single_timeseries(subject, experiment, run)\n",
    "            evs = load_evs_as_dict(subject, experiment, run)\n",
    "        except FileNotFoundError as e:\n",
    "            print(e)\n",
    "            continue\n",
    "\n",
    "        n_parcels, n_timepoints = ts.shape\n",
    "\n",
    "        for condition, ev_data in evs.items():\n",
    "            onset_times = ev_data[\"onset\"]\n",
    "            durations   = ev_data[\"duration\"]\n",
    "            amplitudes  = ev_data[\"amplitude\"]\n",
    "\n",
    "            for onset, duration, amplitude in zip(onset_times, durations, amplitudes):\n",
    "                start_frame = int(onset / TR)\n",
    "                end_frame   = start_frame + int(duration / TR)\n",
    "\n",
    "                for time_point in range(start_frame, end_frame):\n",
    "                    if time_point < n_timepoints: # Ensure it is within bounds\n",
    "                        row = {\n",
    "                            \"subject\"      : subject   ,\n",
    "                            \"experiment\"   : experiment,\n",
    "                            \"run\"          : RUNS[run] ,\n",
    "                            \"condition\"    : condition ,\n",
    "                            \"timepoint\"    : time_point,\n",
    "                            \"EV_onset\"     : onset     ,\n",
    "                            \"EV_duration\"  : duration  ,\n",
    "                            \"EV_amplitude\" : amplitude\n",
    "                        }\n",
    "                        # Add BOLD signal data for all parcels\n",
    "                        row.update({f\"parcel_{i}\": ts[i, time_point] for i in range(n_parcels)})\n",
    "                        all_data.append(row)\n",
    "\n",
    "    df = pd.DataFrame(all_data)\n",
    "    return df"
   ]
  },
  {
   "cell_type": "code",
   "execution_count": 11,
   "id": "143c7fbd-57ae-4461-adc3-4070bc38a7dd",
   "metadata": {},
   "outputs": [],
   "source": [
    "def save_to_csv(df, output_folder, filename):\n",
    "    \"\"\"Saves the input dataframe as a csv in\n",
    "    output_folder of working directory.\n",
    "\n",
    "    Arguments:\n",
    "        df      (dataframe)\n",
    "        output_folder (str)\n",
    "        filename      (str)\n",
    "    \"\"\"\n",
    "    file_path = os.path.join(output_folder, filename)\n",
    "    df.to_csv(file_path, index=False)"
   ]
  },
  {
   "cell_type": "code",
   "execution_count": 12,
   "id": "7c0892e4-519b-4c19-9b1a-ffedcc526d60",
   "metadata": {},
   "outputs": [],
   "source": [
    "def process_subject(subject, experiments, output_folder):\n",
    "    \"\"\"\n",
    "    ????????\n",
    "    Works with create_dataframe() and save_tocsv() functions.\n",
    "    \n",
    "    Arguments:\n",
    "\n",
    "    Returns:\n",
    "        List of dataframes.\n",
    "    \"\"\"\n",
    "    all_dfs = []\n",
    "\n",
    "    for experiment in experiments:\n",
    "        df = create_dataframe(subject, experiment)\n",
    "        if not df.empty:\n",
    "            all_dfs.append(df)\n",
    "        else:\n",
    "            print(f\"No data to save for subject {subject}, experiment {experiment}.\")\n",
    "\n",
    "        # Concatenate all dataframes row-wise\n",
    "        if all_dfs:\n",
    "            final_df = pd.concat(all_dfs, axis = 0)\n",
    "            save_to_csv(final_df, output_folder, f\"{subject}_data.csv\")\n",
    "        else:\n",
    "            print(f\"No data to save for subject {subject}.\")\n",
    "\n",
    "    return "
   ]
  },
  {
   "cell_type": "markdown",
   "id": "9931001b-8891-4726-bec6-5067649556e3",
   "metadata": {},
   "source": [
    "### Creating dataframes for each subject"
   ]
  },
  {
   "cell_type": "code",
   "execution_count": 13,
   "id": "abc0ce64-7fd6-4e52-8261-eb33e3977eba",
   "metadata": {},
   "outputs": [],
   "source": [
    "output_folder = \"./output_csv_files\"\n",
    "os.makedirs(output_folder, exist_ok = True)\n",
    "\n",
    "for subject in SubjectIDs:\n",
    "    process_subject(subject, TargetExperiments, output_folder)"
   ]
  },
  {
   "cell_type": "markdown",
   "id": "76302446-fcd1-47ee-b904-5083cc80b118",
   "metadata": {},
   "source": [
    "## Matrix Construction for the Model\n",
    "(Insert method of matrix construction here.)"
   ]
  },
  {
   "cell_type": "markdown",
   "id": "0eee1d24-db53-4dc6-a52b-7997db801c1a",
   "metadata": {},
   "source": [
    "### Helper functions for the matrix construction"
   ]
  },
  {
   "cell_type": "code",
   "execution_count": 14,
   "id": "da41180c",
   "metadata": {},
   "outputs": [],
   "source": [
    "def process_subject_file(filename):\n",
    "    \"\"\"Creates a list of averaged data for each subject,\n",
    "    working alongside the load_and_average_data() function\n",
    "    to create the matrix for the model.\n",
    "\n",
    "    Argument:\n",
    "        filename (str): Name of each file\n",
    "        (This list can be fed to the function through a loop.)\n",
    "\n",
    "    Returns:\n",
    "        List of averaged data for each subject\n",
    "    \"\"\"\n",
    "    df = pd.read_csv(filename)\n",
    "\n",
    "    # Group by \"EV_onset\" and average the BOLD signals\n",
    "    grouped_by_ev_onset = df.groupby(\"EV_onset\")\n",
    "    \n",
    "    subject = df[\"subject\"].iloc[0]\n",
    "\n",
    "    averaged_data_list = []\n",
    "    for ev_onset, ev_group in grouped_by_ev_onset:\n",
    "        numeric_data  = ev_group.drop(columns = [\"subject\", \"experiment\", \"run\", \"timepoint\",\n",
    "                                                \"EV_onset\", \"EV_duration\", \"EV_amplitude\", \n",
    "                                                \"condition\"])\n",
    "        averaged_data = numeric_data.mean()\n",
    "        condition     = ev_group[\"condition\"].iloc[0]\n",
    "        averaged_data_list.append([subject, condition] + averaged_data.tolist())\n",
    "\n",
    "    return averaged_data_list"
   ]
  },
  {
   "cell_type": "code",
   "execution_count": 15,
   "id": "3a2c17d4-9136-4105-ae2f-2dd8acdc7ca6",
   "metadata": {},
   "outputs": [],
   "source": [
    "def load_and_average_data(directory):\n",
    "    \"\"\"Creates a dataframe of all files for all subjects.\n",
    "    Works along with the process_subject_file() function.\n",
    "\n",
    "    Argument:\n",
    "        directory (str): Name of desired output folder\n",
    "\n",
    "    Returns:\n",
    "        Prints the shape of final dataframe and returns\n",
    "        dataframe of all averaged BOLD data.\n",
    "    \"\"\"\n",
    "    all_files = glob(os.path.join(directory, \"*.csv\"))\n",
    "    \n",
    "    final_data_list = []\n",
    "\n",
    "    for filename in all_files:\n",
    "        subject_data = process_subject_file(filename)\n",
    "        final_data_list.extend(subject_data)\n",
    "\n",
    "    # Dataframe of results\n",
    "    result_columns = [\"Subject\", \"Condition\"] + [f\"Parcel_{i+1}\" for i in range(len(final_data_list[0]) - 2)]\n",
    "    result_df      = pd.DataFrame(final_data_list, columns = result_columns)\n",
    "\n",
    "    # Print the shape of final dataframe\n",
    "    print(\"Shape of final dataframe:\", result_df.shape)\n",
    "\n",
    "    return result_df"
   ]
  },
  {
   "cell_type": "markdown",
   "id": "fbc8bfb8-8c65-402e-9f37-5a2640ad967b",
   "metadata": {},
   "source": [
    "### Creating the matrix"
   ]
  },
  {
   "cell_type": "code",
   "execution_count": 16,
   "id": "737f9996-4aa4-4c3a-8456-5fa0a5a70d82",
   "metadata": {},
   "outputs": [
    {
     "name": "stdout",
     "output_type": "stream",
     "text": [
      "Shape of final dataframe: (5265, 362)\n"
     ]
    }
   ],
   "source": [
    "csv_directory = \"./output_csv_files\"\n",
    "\n",
    "averaged_df = load_and_average_data(csv_directory)\n",
    "\n",
    "averaged_df.to_csv(\"averaged_data.csv\", index = False)"
   ]
  },
  {
   "cell_type": "markdown",
   "id": "f248a459-8d3b-4bad-8585-3ef22c177c8f",
   "metadata": {},
   "source": [
    "## The MLP Model (2 output version)"
   ]
  },
  {
   "cell_type": "markdown",
   "id": "871d9a50-df99-406b-ac8c-97919e57d106",
   "metadata": {},
   "source": [
    "### Visualizing the raw data"
   ]
  },
  {
   "cell_type": "code",
   "execution_count": 17,
   "id": "8c5a5c99-38a6-4c9a-8a6d-71c18bba349d",
   "metadata": {},
   "outputs": [],
   "source": [
    "# Counting trials per condition\n",
    "trial_count_df = averaged_df.groupby(\"Subject\")[\"Condition\"].value_counts().unstack(fill_value = 0)\n",
    "trial_count_df[\"Total_Conditions\"] = trial_count_df.sum(axis = 1)"
   ]
  },
  {
   "cell_type": "code",
   "execution_count": 18,
   "id": "9534efc8-1f65-4bd0-99a5-a65c5a5cd7b7",
   "metadata": {},
   "outputs": [
    {
     "data": {
      "image/png": "[encoded data removed]",
      "text/plain": [
       "<Figure size 640x480 with 1 Axes>"
      ]
     },
     "metadata": {},
     "output_type": "display_data"
    }
   ],
   "source": [
    "# Plot the trial counts\n",
    "trial_count_df.drop(columns = \"Total_Conditions\").sum().sort_values().plot(kind = \"bar\")\n",
    "\n",
    "plt.title(\"Counts of Trials per Condition across Subjects\")\n",
    "\n",
    "plt.ylabel(\"Total Count\")\n",
    "plt.xlabel(\"Condition\")\n",
    "plt.xticks(rotation = 60)\n",
    "plt.show()"
   ]
  },
  {
   "cell_type": "code",
   "execution_count": 19,
   "id": "7c5bfd9b-13a1-46b9-b0c8-9e73169115e4",
   "metadata": {},
   "outputs": [
    {
     "data": {
      "image/png": "[encoded data removed]",
      "text/plain": [
       "<Figure size 1400x800 with 1 Axes>"
      ]
     },
     "metadata": {},
     "output_type": "display_data"
    }
   ],
   "source": [
    "# Box plot of trial distribution per condition\n",
    "plt.figure(figsize = (14, 8))\n",
    "\n",
    "sns.boxplot(data = trial_count_df.drop(columns = \"Total_Conditions\"))\n",
    "\n",
    "plt.title(\"Distribution of Trial Counts per Condition across Subjects\")\n",
    "\n",
    "plt.ylabel(\"Count\")\n",
    "plt.xlabel(\"Condition\")\n",
    "plt.xticks(rotation = 60)\n",
    "plt.show()"
   ]
  },
  {
   "cell_type": "markdown",
   "id": "ad29c481-ac19-48ad-9897-b9d27e074aa8",
   "metadata": {},
   "source": [
    "### Standardization"
   ]
  },
  {
   "cell_type": "markdown",
   "id": "ab7dbd8d-8c4c-4e77-bb2c-66fccf0c546b",
   "metadata": {},
   "source": [
    "#### Standardization Helper Function"
   ]
  },
  {
   "cell_type": "code",
   "execution_count": 20,
   "id": "8bdc74ae-b815-4c76-86f5-68ebc751bd66",
   "metadata": {},
   "outputs": [],
   "source": [
    "def standardize_data(df, columns):\n",
    "    \"\"\"Standardizes dataframe for selected columns.\n",
    "    \n",
    "    Arguments:\n",
    "        df (dataframe): Non-standard dataframe\n",
    "        columns  (str): List of columns to be standardized\n",
    "    \n",
    "    Returns:\n",
    "        Standardized dataframe\n",
    "    \"\"\"\n",
    "    scaler = StandardScaler()\n",
    "    \n",
    "    df[columns] = scaler.fit_transform(df[columns])\n",
    "\n",
    "    return df"
   ]
  },
  {
   "cell_type": "markdown",
   "id": "2865e0ac-eeef-43e2-8129-2725ba2cd12c",
   "metadata": {},
   "source": [
    "#### Check Standardization and Standardize"
   ]
  },
  {
   "cell_type": "code",
   "execution_count": 21,
   "id": "1555c041-ee37-480f-b645-3ece7dfcaac2",
   "metadata": {},
   "outputs": [],
   "source": [
    "parcel_columns = [col for col in averaged_df.columns if col.startswith(\"Parcel_\")]"
   ]
  },
  {
   "cell_type": "code",
   "execution_count": 22,
   "id": "58c2dbf6-b6e0-4f8a-99e6-939b2addef8d",
   "metadata": {},
   "outputs": [
    {
     "name": "stdout",
     "output_type": "stream",
     "text": [
      "Means of Parcel Columns:\n",
      "Parcel_1      7.966060\n",
      "Parcel_2      0.201740\n",
      "Parcel_3      0.858774\n",
      "Parcel_4      6.061944\n",
      "Parcel_5      5.647242\n",
      "                ...   \n",
      "Parcel_356   -5.682965\n",
      "Parcel_357    0.551371\n",
      "Parcel_358   -2.061308\n",
      "Parcel_359    5.259901\n",
      "Parcel_360    0.053512\n",
      "Length: 360, dtype: float64\n",
      "\n",
      "\n",
      "Standard Deviations of Parcel Columns:\n",
      "Parcel_1      33.939223\n",
      "Parcel_2      31.944751\n",
      "Parcel_3      34.725444\n",
      "Parcel_4      29.812809\n",
      "Parcel_5      28.881377\n",
      "                ...    \n",
      "Parcel_356    44.463824\n",
      "Parcel_357    35.372023\n",
      "Parcel_358    43.477691\n",
      "Parcel_359    59.964609\n",
      "Parcel_360    62.258895\n",
      "Length: 360, dtype: float64\n"
     ]
    }
   ],
   "source": [
    "# Check standardization\n",
    "mean_values_2check = averaged_df[parcel_columns].mean()\n",
    "std_values_2check  = averaged_df[parcel_columns].std()\n",
    "\n",
    "print(\"Means of Parcel Columns:\")\n",
    "print(mean_values_2check)\n",
    "print(\"\\n\\nStandard Deviations of Parcel Columns:\")\n",
    "print(std_values_2check)"
   ]
  },
  {
   "cell_type": "code",
   "execution_count": 23,
   "id": "a385a6d4-afb3-4f6f-8c75-c8680fd6e2cb",
   "metadata": {},
   "outputs": [
    {
     "name": "stdout",
     "output_type": "stream",
     "text": [
      "Means of Parcel Columns:\n",
      "Parcel_1      2.699118e-18\n",
      "Parcel_2     -3.711287e-18\n",
      "Parcel_3      1.417037e-17\n",
      "Parcel_4     -1.214603e-17\n",
      "Parcel_5     -1.349559e-17\n",
      "                  ...     \n",
      "Parcel_356    4.386066e-18\n",
      "Parcel_357    1.349559e-18\n",
      "Parcel_358    4.723456e-18\n",
      "Parcel_359   -1.349559e-18\n",
      "Parcel_360    2.361728e-18\n",
      "Length: 360, dtype: float64\n",
      "\n",
      "\n",
      "Standard Deviations of Parcel Columns:\n",
      "Parcel_1      1.000095\n",
      "Parcel_2      1.000095\n",
      "Parcel_3      1.000095\n",
      "Parcel_4      1.000095\n",
      "Parcel_5      1.000095\n",
      "                ...   \n",
      "Parcel_356    1.000095\n",
      "Parcel_357    1.000095\n",
      "Parcel_358    1.000095\n",
      "Parcel_359    1.000095\n",
      "Parcel_360    1.000095\n",
      "Length: 360, dtype: float64\n"
     ]
    }
   ],
   "source": [
    "# Standardize data\n",
    "standardized_df = standardize_data(averaged_df, parcel_columns)\n",
    "\n",
    "mean_values_2check = averaged_df[parcel_columns].mean()\n",
    "std_values_2check  = averaged_df[parcel_columns].std()\n",
    "\n",
    "print(\"Means of Parcel Columns:\")\n",
    "print(mean_values_2check)\n",
    "print(\"\\n\\nStandard Deviations of Parcel Columns:\")\n",
    "print(std_values_2check)"
   ]
  },
  {
   "cell_type": "code",
   "execution_count": 24,
   "id": "1285f4be-d0af-4e1c-8598-9360dff9a3e6",
   "metadata": {},
   "outputs": [
    {
     "data": {
      "text/html": [
       "<div>\n",
       "<style scoped>\n",
       "    .dataframe tbody tr th:only-of-type {\n",
       "        vertical-align: middle;\n",
       "    }\n",
       "\n",
       "    .dataframe tbody tr th {\n",
       "        vertical-align: top;\n",
       "    }\n",
       "\n",
       "    .dataframe thead th {\n",
       "        text-align: right;\n",
       "    }\n",
       "</style>\n",
       "<table border=\"1\" class=\"dataframe\">\n",
       "  <thead>\n",
       "    <tr style=\"text-align: right;\">\n",
       "      <th></th>\n",
       "      <th>Subject</th>\n",
       "      <th>Condition</th>\n",
       "      <th>Parcel_1</th>\n",
       "      <th>Parcel_2</th>\n",
       "      <th>Parcel_3</th>\n",
       "      <th>Parcel_4</th>\n",
       "      <th>Parcel_5</th>\n",
       "      <th>Parcel_6</th>\n",
       "      <th>Parcel_7</th>\n",
       "      <th>Parcel_8</th>\n",
       "      <th>...</th>\n",
       "      <th>Parcel_351</th>\n",
       "      <th>Parcel_352</th>\n",
       "      <th>Parcel_353</th>\n",
       "      <th>Parcel_354</th>\n",
       "      <th>Parcel_355</th>\n",
       "      <th>Parcel_356</th>\n",
       "      <th>Parcel_357</th>\n",
       "      <th>Parcel_358</th>\n",
       "      <th>Parcel_359</th>\n",
       "      <th>Parcel_360</th>\n",
       "    </tr>\n",
       "  </thead>\n",
       "  <tbody>\n",
       "    <tr>\n",
       "      <th>0</th>\n",
       "      <td>100307</td>\n",
       "      <td>story</td>\n",
       "      <td>-2.212112</td>\n",
       "      <td>1.043675</td>\n",
       "      <td>2.045246</td>\n",
       "      <td>-0.571557</td>\n",
       "      <td>1.367366</td>\n",
       "      <td>0.803018</td>\n",
       "      <td>0.536837</td>\n",
       "      <td>-0.207291</td>\n",
       "      <td>...</td>\n",
       "      <td>4.552315</td>\n",
       "      <td>1.200689</td>\n",
       "      <td>-0.739007</td>\n",
       "      <td>-0.870898</td>\n",
       "      <td>0.488388</td>\n",
       "      <td>-0.214473</td>\n",
       "      <td>-1.497234</td>\n",
       "      <td>-2.195716</td>\n",
       "      <td>-0.480309</td>\n",
       "      <td>0.431307</td>\n",
       "    </tr>\n",
       "    <tr>\n",
       "      <th>1</th>\n",
       "      <td>100307</td>\n",
       "      <td>story</td>\n",
       "      <td>-0.045663</td>\n",
       "      <td>0.742578</td>\n",
       "      <td>0.224967</td>\n",
       "      <td>0.424425</td>\n",
       "      <td>1.007412</td>\n",
       "      <td>0.408894</td>\n",
       "      <td>0.396555</td>\n",
       "      <td>1.006087</td>\n",
       "      <td>...</td>\n",
       "      <td>0.171275</td>\n",
       "      <td>1.289644</td>\n",
       "      <td>1.863082</td>\n",
       "      <td>1.258961</td>\n",
       "      <td>2.331189</td>\n",
       "      <td>2.248851</td>\n",
       "      <td>0.784438</td>\n",
       "      <td>0.898518</td>\n",
       "      <td>-0.737850</td>\n",
       "      <td>-0.457307</td>\n",
       "    </tr>\n",
       "    <tr>\n",
       "      <th>2</th>\n",
       "      <td>100307</td>\n",
       "      <td>2bk_tools</td>\n",
       "      <td>-0.583377</td>\n",
       "      <td>-0.244700</td>\n",
       "      <td>-0.485671</td>\n",
       "      <td>-0.514807</td>\n",
       "      <td>0.499789</td>\n",
       "      <td>0.693983</td>\n",
       "      <td>-0.586607</td>\n",
       "      <td>-0.575832</td>\n",
       "      <td>...</td>\n",
       "      <td>-1.076259</td>\n",
       "      <td>0.523837</td>\n",
       "      <td>-0.684602</td>\n",
       "      <td>-0.256175</td>\n",
       "      <td>0.468230</td>\n",
       "      <td>0.097388</td>\n",
       "      <td>0.633865</td>\n",
       "      <td>0.225123</td>\n",
       "      <td>0.009667</td>\n",
       "      <td>-0.032553</td>\n",
       "    </tr>\n",
       "    <tr>\n",
       "      <th>3</th>\n",
       "      <td>100307</td>\n",
       "      <td>neut</td>\n",
       "      <td>1.018904</td>\n",
       "      <td>1.131706</td>\n",
       "      <td>-0.085767</td>\n",
       "      <td>0.523095</td>\n",
       "      <td>0.924716</td>\n",
       "      <td>0.924906</td>\n",
       "      <td>0.417222</td>\n",
       "      <td>0.437608</td>\n",
       "      <td>...</td>\n",
       "      <td>0.761289</td>\n",
       "      <td>-0.079838</td>\n",
       "      <td>-0.465020</td>\n",
       "      <td>-0.381053</td>\n",
       "      <td>-0.434058</td>\n",
       "      <td>-0.434367</td>\n",
       "      <td>-0.415776</td>\n",
       "      <td>0.147698</td>\n",
       "      <td>-0.261354</td>\n",
       "      <td>0.056953</td>\n",
       "    </tr>\n",
       "    <tr>\n",
       "      <th>4</th>\n",
       "      <td>100307</td>\n",
       "      <td>math</td>\n",
       "      <td>0.364141</td>\n",
       "      <td>1.158249</td>\n",
       "      <td>2.191998</td>\n",
       "      <td>0.956169</td>\n",
       "      <td>2.199813</td>\n",
       "      <td>1.396334</td>\n",
       "      <td>0.892229</td>\n",
       "      <td>0.802538</td>\n",
       "      <td>...</td>\n",
       "      <td>5.659417</td>\n",
       "      <td>1.787301</td>\n",
       "      <td>0.180348</td>\n",
       "      <td>0.865090</td>\n",
       "      <td>0.420090</td>\n",
       "      <td>0.870573</td>\n",
       "      <td>-0.540022</td>\n",
       "      <td>-0.838548</td>\n",
       "      <td>0.981744</td>\n",
       "      <td>1.697309</td>\n",
       "    </tr>\n",
       "  </tbody>\n",
       "</table>\n",
       "<p>5 rows × 362 columns</p>\n",
       "</div>"
      ],
      "text/plain": [
       "   Subject  Condition  Parcel_1  Parcel_2  Parcel_3  Parcel_4  Parcel_5  \\\n",
       "0   100307      story -2.212112  1.043675  2.045246 -0.571557  1.367366   \n",
       "1   100307      story -0.045663  0.742578  0.224967  0.424425  1.007412   \n",
       "2   100307  2bk_tools -0.583377 -0.244700 -0.485671 -0.514807  0.499789   \n",
       "3   100307       neut  1.018904  1.131706 -0.085767  0.523095  0.924716   \n",
       "4   100307       math  0.364141  1.158249  2.191998  0.956169  2.199813   \n",
       "\n",
       "   Parcel_6  Parcel_7  Parcel_8  ...  Parcel_351  Parcel_352  Parcel_353  \\\n",
       "0  0.803018  0.536837 -0.207291  ...    4.552315    1.200689   -0.739007   \n",
       "1  0.408894  0.396555  1.006087  ...    0.171275    1.289644    1.863082   \n",
       "2  0.693983 -0.586607 -0.575832  ...   -1.076259    0.523837   -0.684602   \n",
       "3  0.924906  0.417222  0.437608  ...    0.761289   -0.079838   -0.465020   \n",
       "4  1.396334  0.892229  0.802538  ...    5.659417    1.787301    0.180348   \n",
       "\n",
       "   Parcel_354  Parcel_355  Parcel_356  Parcel_357  Parcel_358  Parcel_359  \\\n",
       "0   -0.870898    0.488388   -0.214473   -1.497234   -2.195716   -0.480309   \n",
       "1    1.258961    2.331189    2.248851    0.784438    0.898518   -0.737850   \n",
       "2   -0.256175    0.468230    0.097388    0.633865    0.225123    0.009667   \n",
       "3   -0.381053   -0.434058   -0.434367   -0.415776    0.147698   -0.261354   \n",
       "4    0.865090    0.420090    0.870573   -0.540022   -0.838548    0.981744   \n",
       "\n",
       "   Parcel_360  \n",
       "0    0.431307  \n",
       "1   -0.457307  \n",
       "2   -0.032553  \n",
       "3    0.056953  \n",
       "4    1.697309  \n",
       "\n",
       "[5 rows x 362 columns]"
      ]
     },
     "execution_count": 24,
     "metadata": {},
     "output_type": "execute_result"
    }
   ],
   "source": [
    "standardized_df.head()"
   ]
  },
  {
   "cell_type": "markdown",
   "id": "8ce14799-0215-44ea-bce6-b682d3df2e2b",
   "metadata": {},
   "source": [
    "### Test and Train data"
   ]
  },
  {
   "cell_type": "markdown",
   "id": "fa6a8914-620c-45b0-b51b-356efb3bb8cf",
   "metadata": {},
   "source": [
    "#### Test/Train helper functions"
   ]
  },
  {
   "cell_type": "code",
   "execution_count": 25,
   "id": "0e7e8486-1479-455e-a8bc-7b155a10878f",
   "metadata": {},
   "outputs": [],
   "source": [
    "def remove_columns(df, columns_to_remove = [\"Subject\", \"Condition\"]):\n",
    "    \"\"\"Removes identifier columns from dataframe for model training.\n",
    "\n",
    "    Arguments:\n",
    "        df           (dataframe): Model-ready dataframe for training\n",
    "        columns_to_remove (list): list of columns to remove\n",
    "    \n",
    "    Returns:\n",
    "        Model-ready dataframe without identifier columns.\n",
    "    \"\"\"\n",
    "    for column in columns_to_remove:\n",
    "        if column in df.columns:\n",
    "            df = df.drop(columns = [column])\n",
    "    return df"
   ]
  },
  {
   "cell_type": "markdown",
   "id": "996c7083-d1e2-4112-9073-bf283982f0ab",
   "metadata": {},
   "source": [
    "#### Binary dataframe setup"
   ]
  },
  {
   "cell_type": "code",
   "execution_count": 26,
   "id": "cfb51019-2cfc-4620-85c0-5f5aa0494c8f",
   "metadata": {},
   "outputs": [],
   "source": [
    "WM_binary_df = standardized_df[standardized_df[\"Condition\"].str.startswith(\"0bk\") | standardized_df[\"Condition\"].str.startswith(\"2bk\")].copy()\n",
    "\n",
    "WM_binary_df[\"Label\"] = WM_binary_df[\"Condition\"].apply(lambda x: 0 if \"0bk\" in x else 1)"
   ]
  },
  {
   "cell_type": "markdown",
   "id": "f89f6e18-bab6-4bba-9c4c-bc4028e16411",
   "metadata": {},
   "source": [
    "#### Subtask dataframe setup"
   ]
  },
  {
   "cell_type": "code",
   "execution_count": 27,
   "id": "c8839cdc-97c7-43ac-9d0f-ae24d2de13a2",
   "metadata": {},
   "outputs": [
    {
     "name": "stdout",
     "output_type": "stream",
     "text": [
      "   Code   Condition\n",
      "0     0    0bk_body\n",
      "1     1   0bk_faces\n",
      "2     2  0bk_places\n",
      "3     3   0bk_tools\n",
      "4     4    2bk_body\n",
      "5     5   2bk_faces\n",
      "6     6  2bk_places\n",
      "7     7   2bk_tools\n"
     ]
    }
   ],
   "source": [
    "WM_subtask_df = standardized_df[standardized_df[\"Condition\"].str.startswith(\"0bk\") | standardized_df[\"Condition\"].str.startswith(\"2bk\")].copy()\n",
    "\n",
    "WM_subtask_df[\"Label\"] = WM_subtask_df[\"Condition\"].astype(\"category\").cat.codes\n",
    "\n",
    "# Create table for subtask conversion\n",
    "subtask_mapping  = dict(enumerate(WM_subtask_df[\"Condition\"].astype(\"category\").cat.categories))\n",
    "conversion_table = pd.DataFrame(list(subtask_mapping.items()), columns = [\"Code\", \"Condition\"])\n",
    "\n",
    "# Display conversion table\n",
    "print(conversion_table)"
   ]
  },
  {
   "cell_type": "code",
   "execution_count": 28,
   "id": "5d3c6653-8ba1-4409-b467-63629cbe7497",
   "metadata": {},
   "outputs": [],
   "source": [
    "# Remove Subject and Condition columns using the remove_columns() function\n",
    "WM_binary_df  = remove_columns(WM_binary_df)\n",
    "WM_subtask_df = remove_columns(WM_subtask_df)"
   ]
  },
  {
   "cell_type": "markdown",
   "id": "b4c0222a-b694-4ac1-859c-829754071dde",
   "metadata": {},
   "source": [
    "### Model Setup"
   ]
  },
  {
   "cell_type": "code",
   "execution_count": null,
   "id": "1457ce4b-87c0-4172-9963-0aa0a20d4419",
   "metadata": {},
   "outputs": [],
   "source": []
  },
  {
   "cell_type": "markdown",
   "id": "9b5311c0-a883-40b1-845c-b604e070609f",
   "metadata": {},
   "source": [
    "### Taining"
   ]
  },
  {
   "cell_type": "code",
   "execution_count": null,
   "id": "9ed2f4d3-2902-474b-90b5-2f5dfb9c87f2",
   "metadata": {},
   "outputs": [],
   "source": []
  },
  {
   "cell_type": "markdown",
   "id": "54704349-7de5-43ea-9ca6-eb3ddb27cc2b",
   "metadata": {},
   "source": [
    "### Model Summary"
   ]
  },
  {
   "cell_type": "code",
   "execution_count": null,
   "id": "121b63f4-ef35-42a2-a2b4-217289849da5",
   "metadata": {},
   "outputs": [],
   "source": []
  },
  {
   "cell_type": "markdown",
   "id": "28ba9363-280f-4bd2-9ed2-25c2b4037e21",
   "metadata": {},
   "source": [
    "### Evaluation and Training History"
   ]
  },
  {
   "cell_type": "code",
   "execution_count": null,
   "id": "0005d3ff-f685-478a-8a73-fa11cd6e9809",
   "metadata": {},
   "outputs": [],
   "source": []
  },
  {
   "cell_type": "markdown",
   "id": "05423654-aa08-497a-aa04-0666a9e66f09",
   "metadata": {},
   "source": [
    "### Using the Model to predict Demand of Emotion and Language tasks\n",
    "After our Working Memory Model was trained, we gave it the Emotion and Language task data."
   ]
  },
  {
   "cell_type": "markdown",
   "id": "622af01e-e841-4b66-8798-6fd14df0fe4e",
   "metadata": {},
   "source": [
    "#### Emotion Dataframe (+ subtasks)"
   ]
  },
  {
   "cell_type": "code",
   "execution_count": 29,
   "id": "18b3eee6-1091-4300-9004-1c9b7a624578",
   "metadata": {},
   "outputs": [],
   "source": [
    "EMOTION_df = standardized_df[standardized_df[\"Condition\"].isin([\"fear\", \"neut\"])].copy()\n",
    "\n",
    "EMOTION_df[\"Label\"] = EMOTION_df[\"Condition\"]"
   ]
  },
  {
   "cell_type": "code",
   "execution_count": 30,
   "id": "ad08f081-bb2a-4f42-8c9e-1a361d64792e",
   "metadata": {},
   "outputs": [],
   "source": [
    "EMOTION_fear_df = standardized_df[standardized_df[\"Condition\"] == \"fear\"].copy()\n",
    "EMOTION_neut_df = standardized_df[standardized_df[\"Condition\"] == \"neut\"].copy()"
   ]
  },
  {
   "cell_type": "markdown",
   "id": "f66f0ca0-b4d9-4c2f-8277-bbdc49935f8e",
   "metadata": {},
   "source": [
    "#### Language Dataframe (+ subtasks)"
   ]
  },
  {
   "cell_type": "code",
   "execution_count": 31,
   "id": "0c7105d5-22a8-4788-9ac1-ea6e21598cbb",
   "metadata": {},
   "outputs": [],
   "source": [
    "LANGUAGE_df = standardized_df[standardized_df[\"Condition\"].isin([\"story\", \"math\"])].copy()\n",
    "\n",
    "LANGUAGE_df[\"Label\"] = LANGUAGE_df[\"Condition\"]"
   ]
  },
  {
   "cell_type": "code",
   "execution_count": 32,
   "id": "01c29e3d-4df8-4f19-a1e1-5026bfb3c1fa",
   "metadata": {},
   "outputs": [],
   "source": [
    "LANGUAGE_math_df  = standardized_df[standardized_df[\"Condition\"] ==  \"math\"].copy()\n",
    "LANGUAGE_story_df = standardized_df[standardized_df[\"Condition\"] == \"story\"].copy()"
   ]
  },
  {
   "cell_type": "markdown",
   "id": "5d19fa3e-b9b8-4e70-a4ac-1a5fbbf1f0bc",
   "metadata": {},
   "source": [
    "#### Removing Subject and Condition Columns"
   ]
  },
  {
   "cell_type": "code",
   "execution_count": 33,
   "id": "69ab6d23-05df-43a8-9751-6c0f318c9c7f",
   "metadata": {},
   "outputs": [],
   "source": [
    "EMOTION_df      = remove_columns(EMOTION_df)\n",
    "EMOTION_fear_df = remove_columns(EMOTION_fear_df)\n",
    "EMOTION_neut_df = remove_columns(EMOTION_neut_df)\n",
    "\n",
    "LANGUAGE_df       = remove_columns(LANGUAGE_df)\n",
    "LANGUAGE_math_df  = remove_columns(LANGUAGE_math_df)\n",
    "LANGUAGE_story_df = remove_columns(LANGUAGE_story_df)"
   ]
  },
  {
   "cell_type": "markdown",
   "id": "2ab3b98d-5428-48ee-973e-710414d263b3",
   "metadata": {},
   "source": [
    "#### Feed Emotion and Language Data for Prediction"
   ]
  },
  {
   "cell_type": "code",
   "execution_count": null,
   "id": "2b39fb3b-1d7e-4e02-a9cb-a2622afecc3b",
   "metadata": {},
   "outputs": [],
   "source": []
  },
  {
   "cell_type": "markdown",
   "id": "508b6d0d-0dd6-44c2-8dda-2d4a63511ad9",
   "metadata": {},
   "source": [
    "### Comparison of Model Predictions\n",
    "Here, we used 3D plots to compare how our model performed in terms of predicting the different conditions of Emotion and Language tasks."
   ]
  },
  {
   "cell_type": "code",
   "execution_count": null,
   "id": "af02b817-0778-4565-b5fa-533321345e52",
   "metadata": {},
   "outputs": [],
   "source": []
  }
 ],
 "metadata": {
  "kernelspec": {
   "display_name": "Python 3 (ipykernel)",
   "language": "python",
   "name": "python3"
  },
  "language_info": {
   "codemirror_mode": {
    "name": "ipython",
    "version": 3
   },
   "file_extension": ".py",
   "mimetype": "text/x-python",
   "name": "python",
   "nbconvert_exporter": "python",
   "pygments_lexer": "ipython3",
   "version": "3.12.4"
  }
 },
 "nbformat": 4,
 "nbformat_minor": 5
}
